{
 "cells": [
  {
   "cell_type": "code",
   "execution_count": 3,
   "metadata": {},
   "outputs": [
    {
     "name": "stdout",
     "output_type": "stream",
     "text": [
      "ekonomi indonesia sedang dalam tumbuh yang bangga\n",
      "mereka tiru\n"
     ]
    }
   ],
   "source": [
    "# import StemmerFactory class\n",
    "from Sastrawi.Stemmer.StemmerFactory import StemmerFactory\n",
    "# create stemmer\n",
    "factory = StemmerFactory()\n",
    "stemmer = factory.create_stemmer()\n",
    "# stemming process\n",
    "sentence = 'Perekonomian Indonesia sedang dalam pertumbuhan yang membanggakan'\n",
    "output   = stemmer.stem(sentence)\n",
    "print(output)\n",
    "# ekonomi indonesia sedang dalam tumbuh yang bangga\n",
    "print(stemmer.stem('Mereka meniru-nirukannya'))\n",
    "# mereka tiru\n"
   ]
  },
  {
   "cell_type": "code",
   "execution_count": 4,
   "metadata": {},
   "outputs": [
    {
     "name": "stdout",
     "output_type": "stream",
     "text": [
      "      warung ini dimiliki oleh pengusaha pabrik tahu yang sudah puluhan tahun terkenal membuat tahu putih di bandung . tahu berkualitas , dipadu keahlian memasak , dipadu kretivitas , jadilah warung yang menyajikan menu utama berbahan tahu , ditambah menu umum lain seperti ayam . semuanya selera indonesia . harga cukup terjangkau . jangan lewatkan tahu bletoka nya , tidak kalah dengan yang asli dari tegal !  \\\n",
      "0      mohon ulama lurus dan k212 mmbri hujjah partai...                                                                                                                                                                                                                                                                                                                                                                     \n",
      "1      lokasi strategis di jalan sumatera bandung . t...                                                                                                                                                                                                                                                                                                                                                                     \n",
      "2      betapa bahagia nya diri ini saat unboxing pake...                                                                                                                                                                                                                                                                                                                                                                     \n",
      "3      duh . jadi mahasiswa jangan sombong dong . kas...                                                                                                                                                                                                                                                                                                                                                                     \n",
      "4      makanan beragam , harga makanan di food stall ...                                                                                                                                                                                                                                                                                                                                                                     \n",
      "...                                                  ...                                                                                                                                                                                                                                                                                                                                                                     \n",
      "10994                                       tidak kecewa                                                                                                                                                                                                                                                                                                                                                                     \n",
      "10995  enak rasa masakan nya apalagi kepiting yang me...                                                                                                                                                                                                                                                                                                                                                                     \n",
      "10996        hormati partai-partai yang telah berkoalisi                                                                                                                                                                                                                                                                                                                                                                     \n",
      "10997  pagi pagi di tol pasteur sudah macet parah , b...                                                                                                                                                                                                                                                                                                                                                                     \n",
      "10998  meskipun sering belanja ke yogya di riau junct...                                                                                                                                                                                                                                                                                                                                                                     \n",
      "\n",
      "       positive  \n",
      "0       neutral  \n",
      "1      positive  \n",
      "2      positive  \n",
      "3      negative  \n",
      "4      positive  \n",
      "...         ...  \n",
      "10994  positive  \n",
      "10995  positive  \n",
      "10996   neutral  \n",
      "10997  negative  \n",
      "10998  positive  \n",
      "\n",
      "[10999 rows x 2 columns]\n"
     ]
    }
   ],
   "source": [
    "df = pd.read_csv('train_preprocess.tsv', delimiter = '\\t')\n",
    "print(df)"
   ]
  },
  {
   "cell_type": "code",
   "execution_count": 10,
   "metadata": {},
   "outputs": [
    {
     "data": {
      "text/plain": [
       "0        mohon ulama lurus dan k212 mmbri hujjah partai...\n",
       "1        lokasi strategis di jalan sumatera bandung . t...\n",
       "2        betapa bahagia nya diri ini saat unboxing pake...\n",
       "3        duh . jadi mahasiswa jangan sombong dong . kas...\n",
       "4        makanan beragam , harga makanan di food stall ...\n",
       "                               ...                        \n",
       "10994                                         tidak kecewa\n",
       "10995    enak rasa masakan nya apalagi kepiting yang me...\n",
       "10996          hormati partai-partai yang telah berkoalisi\n",
       "10997    pagi pagi di tol pasteur sudah macet parah , b...\n",
       "10998    meskipun sering belanja ke yogya di riau junct...\n",
       "Name: warung ini dimiliki oleh pengusaha pabrik tahu yang sudah puluhan tahun terkenal membuat tahu putih di bandung . tahu berkualitas , dipadu keahlian memasak , dipadu kretivitas , jadilah warung yang menyajikan menu utama berbahan tahu , ditambah menu umum lain seperti ayam . semuanya selera indonesia . harga cukup terjangkau . jangan lewatkan tahu bletoka nya , tidak kalah dengan yang asli dari tegal !, Length: 10999, dtype: object"
      ]
     },
     "execution_count": 10,
     "metadata": {},
     "output_type": "execute_result"
    }
   ],
   "source": [
    "df.iloc[:,0]"
   ]
  },
  {
   "cell_type": "code",
   "execution_count": 17,
   "metadata": {},
   "outputs": [
    {
     "name": "stdout",
     "output_type": "stream",
     "text": [
      "mohon ulama lurus dan k212 mmbri hujjah partai apa yang harus diwlh agar suara islam tidak pecah\n",
      "lokasi strategis di jalan sumatera bandung tempat nya nyaman utama sofa di lantai 2 paella nya enak sangat pas makan dengan minum bir dingin appetiser nya juga enak\n",
      "betapa bahagia nya diri ini saat unboxing paket dan barang nya bagus tetap beli lagi\n",
      "duh jadi mahasiswa jangan sombong dong kasih kartu kuning segala ajar dulu yang baik tidak usah ikut politik nanti sudah selesai kuliah nya mau ikut politik juga tidak telat dasar mahasiswa\n",
      "makan agam harga makan di food stall akan tambah 10 lagi di kasir suasana ramai dan perlu perhati untuk dapat parkir dan tempat duduk\n",
      "pakai kartu kredit bca tidak untung malah rugi besar\n",
      "tempat unik bagus buat foto makan enak pegawai ramah bersih dan luas wifi kencang harga standar dan sesuai dengan tempat nya ada menu masakan makan barat dan indonesia menu favorit lychee mojito dan spagheti\n",
      "saya sama keluarga baru saja nikmat alam kuliner yang senang di rm sari sunda di jalan setiabudhi bandung tapi karena tidak ada hubung untuk rm sari sunda di jalan setiabudhi maka saya tulis di sini jadi maaf jika rekan baca ada yang bingung beberapa hal yang saya suka dari restoran ini adalah bahwa layan restoran ini bilang cepat\n",
      "syukur\n",
      "simcard indosat inaktiv gara-gara lupa isi pulsa dan kabar nya aktif jika pinda ke pasca bayar ribet banget\n",
      "sifat iri sering muncul pada orang orang yang tidak punya tuju hidup\n",
      "sekadar cerita alam saya pesan steak grilled beef 200 tidak saji steak 200 tidak sebut dalam 2 potong 100 tidak - 100 tidak rasa tidak buruk namun kualitas daging nya yang buat saya enggan mes menu beef lagi khusus nya sirloin karena lemak nya terlalu banyak untuk ukur steak namun masih ada menu lain yang sangat tempel di lidah saya saran untuk beli menu label cheese atau lanjut\n",
      "alam sama indosat hari ini moga tidak jadi pada langgan lain sempat sampai marah dengan layan langgan indosat\n",
      "anak sekarang sulit untuk nasehat\n",
      "hanya atas masalah kayak gin saja anies sandi tidak becus ke mana saja pasu bersih yang begitu banyak jumlah nya\n",
      "tiap bumn bentuk dengan uu bukan bentuk dengan uu\n",
      "habis puas main di trans studio bandung saya sama teman sepakat untuk makan ayam kakek di sini ayam nya selalu enak dan gurih\n",
      "rasa bakso cuanki dan batagor cukup selalu ramai unjung buka sekitar jam 10 pagi dari jalan riau tuju jalan a yani ada sisi kiri jalan sekitar jalan anggrek harga per porsi sekitar rp 14 000 datang lebih awal karena selalu ramai unjung\n",
      "sgwr 2018 beri dampak positif hadap hobi anak\n",
      "ada di lembang pandang indah udara sejuk tata resto yang bagus lengkap dengan makan yang sangat nikmat pilih menu agam dan minum yang lengkap lingkung yang cocok untuk makan dua dengan pasang bawa keluarga atau sama dengan teman lapang parkir luas restoran yang konsep buka ini buat udara lembang sangat asa sejuk nya\n",
      "buka puasa di sini pada minggu lepas pak supir yang cadang tempat makan ini makan nya di sini sedap dan harga patut tempat nya luas dan cantik rekomendasi too others to dine in here to rasa authentic sunda makan indonesia\n",
      "hahaha suka banget nonton kartun indonesia keluarga pak tomat\n",
      "bagi teman yang sedang kunjung ke bandung bisa mampir ke kopi anjis untuk makan makan yang tidak terlalu berat ada cilok rakyat teman dengan teh sereh dan lekker\n",
      "di restoran ini saya dan keluarga makan malam yang akhir di bandung kami jumlah 8 orang dan bila nya hanya sekitar 400 an benar murah riah sampai makan double-double lagi makan nya juga enak suasana kafe tarik layan sangat bagus saya masih ingat tunjuk toilet yang ada di restoran ini men to the pergi karena momen are selalu ribut hahahaha timpal\n",
      "alhamdulillah hari ini tidak ke jalan bugel agak kesal juga kalau tiap hari lewat sana melulu sempit dua arah macet sudah jadi makan hari\n",
      "respon agak lama sama sayang nya rem nya bukan asli masih rom distrobitor\n",
      "lokasi dengan pandang alam yang masih natural dan indah suasana juga sejuk dan tenang hanya saja banyak nyamuk dan harga makan relatif mahal\n",
      "pdip sebut ridwan kamil menang karena baju merah\n",
      "malu - maluin nih oknum yang tidak tanggung jawab\n",
      "makan siang di sini asyik juga nuansa bal walaupun music nya musik sunda kadang musik khas bal ganti tempat nya enak dan adem tapi sayang sekali pesan kopi lama banget datang nya minta kali kali iya pak iya pak hampir 1 jam dan ketika kopi datang pun bukan kopi panas tapi kopi ade ini kah ciri khas kopi di sini kalau khas nya kopi dingin tidak enak\n",
      "tempat steak di bandung sejak lama dari zaman setiabudi sampai sekarang buka cabang di riau tempat di riau ini lebih besar parkir juga tidak sulit seperti di setiabudi lokasi di tempat kuliner jalan riau porsi dan harga nya pas untuk ukur steak untuk zoom non smoking nya nyaman\n",
      "08 30 datang presiden ri dan rombong di gate 2 terminal 3 sambut oleh menteri hubung menteri bumn gubernur banten dirjen perkeretaapian kemhub dirut ap2 dirut pt kami dan dirut railink\n",
      "makan tradisional yang selalu rasa stabil iga garang asam nya dan java steak nya jangan lupa ya coba hidang tutup semua kue enak lemper soes fla gulung enak sekali tidak ada yang tidak enak kalau makan di sini\n",
      "sampai saat ini saya rasa batagor ini masih yang enak di kota bandung banding dengan batagor lain yang saya pernah coba bumbu kacang nya pas rasa di lidah dan batagor nya juga tidak amis bau nya sila coba untuk yang belum pernah coba\n",
      "aroma khas yang ada jika makan di atas daun pisang ya walau ramai tempat ini selalu jadi favourit saya jika ke bandung\n",
      "akhir tahun lalu saya dan keluarga jalan ke daerah lembang dan tidak sengaja mampir makan di resto ini suasana nya nyaman layan juga ramah dan lebih ala kami puas makan yang di saji standar seperti makan di restoran pada umum nya tetapi yang buat beda adalah sambal stroberi yang yummy dan bikin tagih di sana selain bisa makan kita juga bisa sambil petik lanjut\n",
      "risma jatuh pilih nya pada gus ipul - puti di pilgub jatim 2018 ini\n",
      "alam yang cukup seru makan tanpa alas piring tapi hanya dengan alas daun makin nikmat makan sunda yang sangat variatif dan cukup enak tips nya jangan bawa emosi dan kalap mes dan pilih semua makan yang sedia biasa kalap kalau sudah lihat makan macam begitu pilih perlu\n",
      "makan nya enak suasana nyaman harga bisa bilang sama dengan tempat lain restoran ini ada 4 konsep tapi yang paling kenal menu jepang nya yang enak loh\n",
      "kampung daun adalah tempat makan yang satu konsep alam dan budaya dari daerah tempat walaupun di dalam kompleks rumah akan tetapi tempat sebut cukup luas punya mungkin sekitar 20 lebih saung tempat makan dari yang kapasitas sedang hingga besar kualitas makan enak dan dengan ada nya suara riak air dari air terjun kecil di sana buat suasana sangat nyaman untuk makan\n",
      "waktu itu ke sini pesan nasi goreng dan kentang goreng nasi goreng nya semua suka kentang goreng nya enak banget dan presentasi nya bagus keluarga bilang kopi nya enak hal yang sangat baik di sini adalah tempat nya luas dan yang di luar bisa lihat pandang dusun bambu tapi layan nya tidak cepat sehingga saya harus tanya beberapa kali tentang pesan saya harga nya cukup mahal namun karena makan nya enak semua jadi bayar tidak perlu pikir dua kali jika mau ke tempat ini lagi\n",
      "banyak sekali tempat makan sunda yang tebar di kota bandung tetapi tidak tahu kenapa saya sangat jatuh hati dengan buah warung makan ini ibu imas yang ada di dekat alun kota bandung suguh rumah makan sunda dengan karakter warung nasi zaman dahulu yang di mana kita bisa ambil semua hidang di depan kita tanpa harus lalu proses order yang biasa kita jumpa di warung makan\n",
      "hai tolong bantu saya tidak bisa input tidak resi jne dan nomor resi sudah pakai\n",
      "foods menu baru cheeseburger nya oke banget dan chicken wings pizza hut memang selalu juara rilis mixing green tea yakult perfect satu kurang pizza hut adalah pinggir nya\n",
      "dusun bambu ini golong baru di bandung tempat nya yang dekat banget sama almamater saya buat saya gampang cari ini tempat pandang nya bagus banyak tempat makan yang enak beli nya nanti pakai voucher\n",
      "tidak muas\n",
      "suruh ngaca main nya dasar oneng ngomong saja masih ala betawi lu kampung\n",
      "kafe ini saji sensasi makan dalam gelap cukup unik sih tetapi lebih dari sekali rasa orang jarang datang lagi hanya tarik untuk sekadar coba\n",
      "sesuai dengan nama nya mi awie kedai makan ini sedia menu mi dengan olah daging babi selain mi masih ada pilih lain seperti nasi goreng babi capjay goreng bakso pangsit dan lain kami coba menu mi babi casau special rasa enak banget\n",
      "mardani ali sera menang di sosial media akan selalu menang di dunia nyata\n",
      "akhir ke tempat ini beberapa tahun yang lalu ketika masih upa kafe sekaramg sudah jadi inap dan boutique hotel untuk yang travel bareng anak pasti suka inap di sini ada playground yang seru swimming pool high rope flying fox kalau inap dapat tiket gratis dan petik stroberi perlu pesan - karena suka ramai inap di sini banyak pilih kamar enak\n",
      "selamat pagi wah kecewa berat masa indihome internet tidak kocek lagi saya itu bayar mahal jangan kecewa kami bagai langgan\n",
      "pokok nya kurang kurang afdol kalau ke lembang atau ke bandung tidak mampir ke sini 4 humas naik buat kampung daun\n",
      "kfc bandung supermall fasilitas nya lengkap luas agak jarang temu dikfc lain keramahtamaan karyawan nya juga sangat bagus\n",
      "restoran sapu lidi milik uni sendiri serasa makan di tengah sawah dikelilingin kolam ikan dan juga nuansa sawah menu nya seperti makan sunda lain tapi ada satu menu favorit saya jamur bakar enak banget\n",
      "semua enak mi abu mi black tahu cocol dan sayap ayam nya mantap buat makan camil bisa di sini\n",
      "nkri bersyariah fpi revolusi akhlaq suara adil laugh semua pada sandung kasus fpi ulama nya sandung obrol mesum tidak berani pulang nkri bersyariah arti tidak amal pancasila sungguh miris\n",
      "bikin macet saja nih orang\n",
      "singapura selidik jual prt indonesia di situs daring\n",
      "pergi raya ulang tahun di tempat ini sangat kesan saya dengan istri pilih tempat ini menu makan variatif dari makan barat sampai lokal ada sedia baju hangat dingin sangat di sini\n",
      "sampai kapan pun saya tidak akan pilih orang kecut seperti prabowo turut saya dia tidak pantas pimpin negara\n",
      "jangan terlalu banyak iklan baik dulu jaring kalian yang lamban\n",
      "kalau orang tiongkok masuk indonesia baru bisa maju kalau andal orang pribumi otak nya jongkok\n",
      "cepat respon kirim kilat dan ramah telah akhir saya putar di toko lain yang tidak jelas saya temu toko juragan ini yang layan nya sangat muas tangkap sangat juragan\n",
      "sok citra sekali basi sama gaya lu lebih wibawa yang seragam coklat top deh buat pak anies\n",
      "ke sini beberapa tahun yang lalu sama teman suasana nya sangat senang dengan pandang yang bagus dan hawa dingin yang segar akan lebih baik datang ke sini pada malam hari steak nya enak\n",
      "dari saya debut empat bagus tetapi yang bikin suka sekali itu tonight dengan saranghajima tidak erti apa aku saja atau yang lain rasa ini winner adalah abang selain bigbang yang kalau nyanyi jiwa nya ikut nyanyi bagus banget dan makin cinta dengan mereka telah tahu sifat dan sikap saya\n",
      "sangat lelah malam ini\n",
      "marah\n",
      "tidak dong aku pilih sby eh pilih prabowo maksude dan yang akan datang aku pilih yang selain jokowi seperti biasa yang selain dari partai banteng moncong tepung grinningfacewithsmilingeyes\n",
      "puas dengan servis nya ramah harga nya banding dengan layan dan rasa pandang nya yang keren banget cocok buat acara ngumpul bareng teman dan keluarga pokok nya rekomendasi sekali tidak sesal deh pokok nya harus ke sini lagi saya layan oleh feriyana yang super ramah dan baik pokok nya buat teman the 18th ini recommened sekali\n",
      "ini pertama kali saya makan abuba steak di luar jakarta rasa agak beda dengan yang saya biasa nikmat di abuba steak jakarta kurang enak suasana restoran nya oke toilet nya sudah agak tua harus sedikit baharu\n",
      "ini xl jaring nya jelek banget ya\n",
      "saya puas dengan games mobile legend\n",
      "saya sama rekan kerja sengaja coba makan siang di sambal khas karmila cab buah batu bandung untuk tempat bilang cozzy dan cukup nyaman jika di lantai atas sedang lantai dasar saya rasa tidak lebih dari tempat makan makan cepat saji yang cukup penuh dengan hiruk pikuk langgan rasa ayam bakar di sini sangat saya rekomendasi sama sambal mangga kait harga bilang relative\n",
      "kuah bakso nya terlalu asin turut saya masih enak yang jual keliling di malang tapi tempat nya bagus buat jamu teman ada di banyak lokasi dan selalu ramai selain bakso juga sedia capcay nasi goreng dan lain yang turut saya justru lebih enak\n",
      "saya bagai warga jakarta malu kang sama oknum yang tidak tanggung jawab yang mau sweeping bobotoh\n",
      "tenderloin steak nya juara tempat mudah akses maki pun sembunyi nyaman tema zaman dahulu tidak ramai layan biasa\n",
      "ini adalah salah satu restoran chinese yang sudah ada sejak lama masakan dari kepiting nya favorit juara biasa saya pesan kepiting rebus babat toge dan cah kangkung\n",
      "para cebong yang lama ini tuduh saya curi uang sedekah 30 sila anda urus si aris wahyudi ini dia ambil komisi 20 untuk transaksi lacur kedok agama berani tidak bulat si aris wahyudi ini atau kamu semua cuma berani sama jonru\n",
      "tarik pilkada jawa barat ini ada ridwan kamil pasang dengan tokoh dari dc universe\n",
      "suasana di kantor dpc kab bogor jelang pidato awal tahun 2018 oleh\n",
      "kalau djarum memang agak tidak kuat dia baru rasa tidak bagus nya pas akhir bakar\n",
      "bakmi tasik saya dan beberapa teman mampir dan coba bakmi bakso nya makan nya biasa saja tidak ada yang special\n",
      "lokasi pandan wangi benar agak jauh dari pusat kota bandung tapi masih jangkau sekitar 15 menit dari jalan asia afrika patok jalan nya ada di jalan talaga bodas dari sana tinggal cari papan tunjuk pandan wangi saat kami datang jam 1 siang sudah nanti begitu banyak orang banyak yang datang keluarga dan anak sambil tunggu saji goreng dari ubi singkong yang lumayan enak\n",
      "pertama kali datang ke eatalia saya datang sama dengan teman dan 1 orang anak tidak memsungkan ketika memlilih makan untuk anak karena di sini sedia menu dengan porsi anak kami mes cheese bacon deluxe pizza dengan roti warna hitam untuk seluruh menu yang saya pesan tidak kecewa\n",
      "rasa lumayan sambel nya juga enak apalagi saji 3 macam model begitu terus banyak pilih sih benar mau makan apa di sini mau gurame mau kakap bawal kerang cumi udang macem-macem deh asal jangan pesan ikan kembung saja tidak ada di sini\n",
      "lokasi di salah satu tempat belanja dan rekreasi di cihampelas wali bandung resto ini tidak kecewa saji nya cukup agam untuk rasa resto ini bisa saji nya dengan cukup enak dan nikmat sangat cocok untuk santap dengan pasang atau keluarga\n",
      "zaman ini masih ada mbak mbak online shop yang tidak tahu aplikasi gojek gocar gosend ya allah bodoh sekali jual hut aku rasa\n",
      "restoran ini juga letak di tempat stategis yaitu jalan dago tepat nya di belah hotel holiday inn sesuai judul nya restoran ini sedia bagai menu masakan aceh favorit saya adalah mi aceh harga standar tapi tidak terlalu mahal jangan lupa coba roti canai nya\n",
      "bihun goreng nya enak bisa minta tidak banyak minyak makan di sini kandung babi jadi tidak halal es teh tawar porsi nya besar dan muas\n",
      "lokasi tes tidak jelas telepon tidak angkat di email cuma auto reply tidak rekomendasi aku baru sadar something adalah wong pas mampir ke kantor nya dan mereka cerita bahwa pernah held tes di hotel dan ruang belah ada kondangan they told that without remorse\n",
      "sate kambing dan gulai kambing nya maknyus saji makannan nya juga sangat cepat tempat nya cukup bersih\n",
      "yue ke hotel yang di mongkok hongkong tidak ada bulan juni lalu saya booked dan sudah bayar untuk 2 kamar tapi hotel tidak temu\n",
      "poach salmon nya enak layan nya enak scenery nya mantap tank to amanda dan worth it banget deh pasti kembali lagi\n",
      "orang cina makan legendaris sudah lama banget nih orang cina makan satu ini semua enak yang tidak enak cuma parkir nya saja aujubila susah nya parkir harus di seberang karena depan resto trotoar jadi harus sabar sekali sedih deh\n",
      "makan di restoran pizza ini paling enak jika sama teman nikmat paket sensasi delight yang harga nya sangat jangkau oleh semua kalang\n",
      "hasil quick count pilgub kaltim 2018 isran - had unggul\n",
      "kenapa kamu jerat buni yani undang ite padahal jelas itu video asal dari youtube yang unggah oleh pemprov itu sendiri harus nya yang kena undang ite itu pemprov bukan buni yani ya kan\n",
      "paket gim benar mantap yang megah harus makan di sini jamin makin keren bravo\n"
     ]
    }
   ],
   "source": [
    "df_lema=[]\n",
    "for i in df.iloc[0:100,0]:\n",
    "    output   = stemmer.stem(i)\n",
    "    df_lema.append(output)\n",
    "    print(output)"
   ]
  },
  {
   "cell_type": "code",
   "execution_count": 18,
   "metadata": {},
   "outputs": [
    {
     "data": {
      "text/plain": [
       "['mohon ulama lurus dan k212 mmbri hujjah partai apa yang harus diwlh agar suara islam tidak pecah',\n",
       " 'lokasi strategis di jalan sumatera bandung tempat nya nyaman utama sofa di lantai 2 paella nya enak sangat pas makan dengan minum bir dingin appetiser nya juga enak',\n",
       " 'betapa bahagia nya diri ini saat unboxing paket dan barang nya bagus tetap beli lagi',\n",
       " 'duh jadi mahasiswa jangan sombong dong kasih kartu kuning segala ajar dulu yang baik tidak usah ikut politik nanti sudah selesai kuliah nya mau ikut politik juga tidak telat dasar mahasiswa',\n",
       " 'makan agam harga makan di food stall akan tambah 10 lagi di kasir suasana ramai dan perlu perhati untuk dapat parkir dan tempat duduk',\n",
       " 'pakai kartu kredit bca tidak untung malah rugi besar',\n",
       " 'tempat unik bagus buat foto makan enak pegawai ramah bersih dan luas wifi kencang harga standar dan sesuai dengan tempat nya ada menu masakan makan barat dan indonesia menu favorit lychee mojito dan spagheti',\n",
       " 'saya sama keluarga baru saja nikmat alam kuliner yang senang di rm sari sunda di jalan setiabudhi bandung tapi karena tidak ada hubung untuk rm sari sunda di jalan setiabudhi maka saya tulis di sini jadi maaf jika rekan baca ada yang bingung beberapa hal yang saya suka dari restoran ini adalah bahwa layan restoran ini bilang cepat',\n",
       " 'syukur',\n",
       " 'simcard indosat inaktiv gara-gara lupa isi pulsa dan kabar nya aktif jika pinda ke pasca bayar ribet banget',\n",
       " 'sifat iri sering muncul pada orang orang yang tidak punya tuju hidup',\n",
       " 'sekadar cerita alam saya pesan steak grilled beef 200 tidak saji steak 200 tidak sebut dalam 2 potong 100 tidak - 100 tidak rasa tidak buruk namun kualitas daging nya yang buat saya enggan mes menu beef lagi khusus nya sirloin karena lemak nya terlalu banyak untuk ukur steak namun masih ada menu lain yang sangat tempel di lidah saya saran untuk beli menu label cheese atau lanjut',\n",
       " 'alam sama indosat hari ini moga tidak jadi pada langgan lain sempat sampai marah dengan layan langgan indosat',\n",
       " 'anak sekarang sulit untuk nasehat',\n",
       " 'hanya atas masalah kayak gin saja anies sandi tidak becus ke mana saja pasu bersih yang begitu banyak jumlah nya',\n",
       " 'tiap bumn bentuk dengan uu bukan bentuk dengan uu',\n",
       " 'habis puas main di trans studio bandung saya sama teman sepakat untuk makan ayam kakek di sini ayam nya selalu enak dan gurih',\n",
       " 'rasa bakso cuanki dan batagor cukup selalu ramai unjung buka sekitar jam 10 pagi dari jalan riau tuju jalan a yani ada sisi kiri jalan sekitar jalan anggrek harga per porsi sekitar rp 14 000 datang lebih awal karena selalu ramai unjung',\n",
       " 'sgwr 2018 beri dampak positif hadap hobi anak',\n",
       " 'ada di lembang pandang indah udara sejuk tata resto yang bagus lengkap dengan makan yang sangat nikmat pilih menu agam dan minum yang lengkap lingkung yang cocok untuk makan dua dengan pasang bawa keluarga atau sama dengan teman lapang parkir luas restoran yang konsep buka ini buat udara lembang sangat asa sejuk nya',\n",
       " 'buka puasa di sini pada minggu lepas pak supir yang cadang tempat makan ini makan nya di sini sedap dan harga patut tempat nya luas dan cantik rekomendasi too others to dine in here to rasa authentic sunda makan indonesia',\n",
       " 'hahaha suka banget nonton kartun indonesia keluarga pak tomat',\n",
       " 'bagi teman yang sedang kunjung ke bandung bisa mampir ke kopi anjis untuk makan makan yang tidak terlalu berat ada cilok rakyat teman dengan teh sereh dan lekker',\n",
       " 'di restoran ini saya dan keluarga makan malam yang akhir di bandung kami jumlah 8 orang dan bila nya hanya sekitar 400 an benar murah riah sampai makan double-double lagi makan nya juga enak suasana kafe tarik layan sangat bagus saya masih ingat tunjuk toilet yang ada di restoran ini men to the pergi karena momen are selalu ribut hahahaha timpal',\n",
       " 'alhamdulillah hari ini tidak ke jalan bugel agak kesal juga kalau tiap hari lewat sana melulu sempit dua arah macet sudah jadi makan hari',\n",
       " 'respon agak lama sama sayang nya rem nya bukan asli masih rom distrobitor',\n",
       " 'lokasi dengan pandang alam yang masih natural dan indah suasana juga sejuk dan tenang hanya saja banyak nyamuk dan harga makan relatif mahal',\n",
       " 'pdip sebut ridwan kamil menang karena baju merah',\n",
       " 'malu - maluin nih oknum yang tidak tanggung jawab',\n",
       " 'makan siang di sini asyik juga nuansa bal walaupun music nya musik sunda kadang musik khas bal ganti tempat nya enak dan adem tapi sayang sekali pesan kopi lama banget datang nya minta kali kali iya pak iya pak hampir 1 jam dan ketika kopi datang pun bukan kopi panas tapi kopi ade ini kah ciri khas kopi di sini kalau khas nya kopi dingin tidak enak',\n",
       " 'tempat steak di bandung sejak lama dari zaman setiabudi sampai sekarang buka cabang di riau tempat di riau ini lebih besar parkir juga tidak sulit seperti di setiabudi lokasi di tempat kuliner jalan riau porsi dan harga nya pas untuk ukur steak untuk zoom non smoking nya nyaman',\n",
       " '08 30 datang presiden ri dan rombong di gate 2 terminal 3 sambut oleh menteri hubung menteri bumn gubernur banten dirjen perkeretaapian kemhub dirut ap2 dirut pt kami dan dirut railink',\n",
       " 'makan tradisional yang selalu rasa stabil iga garang asam nya dan java steak nya jangan lupa ya coba hidang tutup semua kue enak lemper soes fla gulung enak sekali tidak ada yang tidak enak kalau makan di sini',\n",
       " 'sampai saat ini saya rasa batagor ini masih yang enak di kota bandung banding dengan batagor lain yang saya pernah coba bumbu kacang nya pas rasa di lidah dan batagor nya juga tidak amis bau nya sila coba untuk yang belum pernah coba',\n",
       " 'aroma khas yang ada jika makan di atas daun pisang ya walau ramai tempat ini selalu jadi favourit saya jika ke bandung',\n",
       " 'akhir tahun lalu saya dan keluarga jalan ke daerah lembang dan tidak sengaja mampir makan di resto ini suasana nya nyaman layan juga ramah dan lebih ala kami puas makan yang di saji standar seperti makan di restoran pada umum nya tetapi yang buat beda adalah sambal stroberi yang yummy dan bikin tagih di sana selain bisa makan kita juga bisa sambil petik lanjut',\n",
       " 'risma jatuh pilih nya pada gus ipul - puti di pilgub jatim 2018 ini',\n",
       " 'alam yang cukup seru makan tanpa alas piring tapi hanya dengan alas daun makin nikmat makan sunda yang sangat variatif dan cukup enak tips nya jangan bawa emosi dan kalap mes dan pilih semua makan yang sedia biasa kalap kalau sudah lihat makan macam begitu pilih perlu',\n",
       " 'makan nya enak suasana nyaman harga bisa bilang sama dengan tempat lain restoran ini ada 4 konsep tapi yang paling kenal menu jepang nya yang enak loh',\n",
       " 'kampung daun adalah tempat makan yang satu konsep alam dan budaya dari daerah tempat walaupun di dalam kompleks rumah akan tetapi tempat sebut cukup luas punya mungkin sekitar 20 lebih saung tempat makan dari yang kapasitas sedang hingga besar kualitas makan enak dan dengan ada nya suara riak air dari air terjun kecil di sana buat suasana sangat nyaman untuk makan',\n",
       " 'waktu itu ke sini pesan nasi goreng dan kentang goreng nasi goreng nya semua suka kentang goreng nya enak banget dan presentasi nya bagus keluarga bilang kopi nya enak hal yang sangat baik di sini adalah tempat nya luas dan yang di luar bisa lihat pandang dusun bambu tapi layan nya tidak cepat sehingga saya harus tanya beberapa kali tentang pesan saya harga nya cukup mahal namun karena makan nya enak semua jadi bayar tidak perlu pikir dua kali jika mau ke tempat ini lagi',\n",
       " 'banyak sekali tempat makan sunda yang tebar di kota bandung tetapi tidak tahu kenapa saya sangat jatuh hati dengan buah warung makan ini ibu imas yang ada di dekat alun kota bandung suguh rumah makan sunda dengan karakter warung nasi zaman dahulu yang di mana kita bisa ambil semua hidang di depan kita tanpa harus lalu proses order yang biasa kita jumpa di warung makan',\n",
       " 'hai tolong bantu saya tidak bisa input tidak resi jne dan nomor resi sudah pakai',\n",
       " 'foods menu baru cheeseburger nya oke banget dan chicken wings pizza hut memang selalu juara rilis mixing green tea yakult perfect satu kurang pizza hut adalah pinggir nya',\n",
       " 'dusun bambu ini golong baru di bandung tempat nya yang dekat banget sama almamater saya buat saya gampang cari ini tempat pandang nya bagus banyak tempat makan yang enak beli nya nanti pakai voucher',\n",
       " 'tidak muas',\n",
       " 'suruh ngaca main nya dasar oneng ngomong saja masih ala betawi lu kampung',\n",
       " 'kafe ini saji sensasi makan dalam gelap cukup unik sih tetapi lebih dari sekali rasa orang jarang datang lagi hanya tarik untuk sekadar coba',\n",
       " 'sesuai dengan nama nya mi awie kedai makan ini sedia menu mi dengan olah daging babi selain mi masih ada pilih lain seperti nasi goreng babi capjay goreng bakso pangsit dan lain kami coba menu mi babi casau special rasa enak banget',\n",
       " 'mardani ali sera menang di sosial media akan selalu menang di dunia nyata',\n",
       " 'akhir ke tempat ini beberapa tahun yang lalu ketika masih upa kafe sekaramg sudah jadi inap dan boutique hotel untuk yang travel bareng anak pasti suka inap di sini ada playground yang seru swimming pool high rope flying fox kalau inap dapat tiket gratis dan petik stroberi perlu pesan - karena suka ramai inap di sini banyak pilih kamar enak',\n",
       " 'selamat pagi wah kecewa berat masa indihome internet tidak kocek lagi saya itu bayar mahal jangan kecewa kami bagai langgan',\n",
       " 'pokok nya kurang kurang afdol kalau ke lembang atau ke bandung tidak mampir ke sini 4 humas naik buat kampung daun',\n",
       " 'kfc bandung supermall fasilitas nya lengkap luas agak jarang temu dikfc lain keramahtamaan karyawan nya juga sangat bagus',\n",
       " 'restoran sapu lidi milik uni sendiri serasa makan di tengah sawah dikelilingin kolam ikan dan juga nuansa sawah menu nya seperti makan sunda lain tapi ada satu menu favorit saya jamur bakar enak banget',\n",
       " 'semua enak mi abu mi black tahu cocol dan sayap ayam nya mantap buat makan camil bisa di sini',\n",
       " 'nkri bersyariah fpi revolusi akhlaq suara adil laugh semua pada sandung kasus fpi ulama nya sandung obrol mesum tidak berani pulang nkri bersyariah arti tidak amal pancasila sungguh miris',\n",
       " 'bikin macet saja nih orang',\n",
       " 'singapura selidik jual prt indonesia di situs daring',\n",
       " 'pergi raya ulang tahun di tempat ini sangat kesan saya dengan istri pilih tempat ini menu makan variatif dari makan barat sampai lokal ada sedia baju hangat dingin sangat di sini',\n",
       " 'sampai kapan pun saya tidak akan pilih orang kecut seperti prabowo turut saya dia tidak pantas pimpin negara',\n",
       " 'jangan terlalu banyak iklan baik dulu jaring kalian yang lamban',\n",
       " 'kalau orang tiongkok masuk indonesia baru bisa maju kalau andal orang pribumi otak nya jongkok',\n",
       " 'cepat respon kirim kilat dan ramah telah akhir saya putar di toko lain yang tidak jelas saya temu toko juragan ini yang layan nya sangat muas tangkap sangat juragan',\n",
       " 'sok citra sekali basi sama gaya lu lebih wibawa yang seragam coklat top deh buat pak anies',\n",
       " 'ke sini beberapa tahun yang lalu sama teman suasana nya sangat senang dengan pandang yang bagus dan hawa dingin yang segar akan lebih baik datang ke sini pada malam hari steak nya enak',\n",
       " 'dari saya debut empat bagus tetapi yang bikin suka sekali itu tonight dengan saranghajima tidak erti apa aku saja atau yang lain rasa ini winner adalah abang selain bigbang yang kalau nyanyi jiwa nya ikut nyanyi bagus banget dan makin cinta dengan mereka telah tahu sifat dan sikap saya',\n",
       " 'sangat lelah malam ini',\n",
       " 'marah',\n",
       " 'tidak dong aku pilih sby eh pilih prabowo maksude dan yang akan datang aku pilih yang selain jokowi seperti biasa yang selain dari partai banteng moncong tepung grinningfacewithsmilingeyes',\n",
       " 'puas dengan servis nya ramah harga nya banding dengan layan dan rasa pandang nya yang keren banget cocok buat acara ngumpul bareng teman dan keluarga pokok nya rekomendasi sekali tidak sesal deh pokok nya harus ke sini lagi saya layan oleh feriyana yang super ramah dan baik pokok nya buat teman the 18th ini recommened sekali',\n",
       " 'ini pertama kali saya makan abuba steak di luar jakarta rasa agak beda dengan yang saya biasa nikmat di abuba steak jakarta kurang enak suasana restoran nya oke toilet nya sudah agak tua harus sedikit baharu',\n",
       " 'ini xl jaring nya jelek banget ya',\n",
       " 'saya puas dengan games mobile legend',\n",
       " 'saya sama rekan kerja sengaja coba makan siang di sambal khas karmila cab buah batu bandung untuk tempat bilang cozzy dan cukup nyaman jika di lantai atas sedang lantai dasar saya rasa tidak lebih dari tempat makan makan cepat saji yang cukup penuh dengan hiruk pikuk langgan rasa ayam bakar di sini sangat saya rekomendasi sama sambal mangga kait harga bilang relative',\n",
       " 'kuah bakso nya terlalu asin turut saya masih enak yang jual keliling di malang tapi tempat nya bagus buat jamu teman ada di banyak lokasi dan selalu ramai selain bakso juga sedia capcay nasi goreng dan lain yang turut saya justru lebih enak',\n",
       " 'saya bagai warga jakarta malu kang sama oknum yang tidak tanggung jawab yang mau sweeping bobotoh',\n",
       " 'tenderloin steak nya juara tempat mudah akses maki pun sembunyi nyaman tema zaman dahulu tidak ramai layan biasa',\n",
       " 'ini adalah salah satu restoran chinese yang sudah ada sejak lama masakan dari kepiting nya favorit juara biasa saya pesan kepiting rebus babat toge dan cah kangkung',\n",
       " 'para cebong yang lama ini tuduh saya curi uang sedekah 30 sila anda urus si aris wahyudi ini dia ambil komisi 20 untuk transaksi lacur kedok agama berani tidak bulat si aris wahyudi ini atau kamu semua cuma berani sama jonru',\n",
       " 'tarik pilkada jawa barat ini ada ridwan kamil pasang dengan tokoh dari dc universe',\n",
       " 'suasana di kantor dpc kab bogor jelang pidato awal tahun 2018 oleh',\n",
       " 'kalau djarum memang agak tidak kuat dia baru rasa tidak bagus nya pas akhir bakar',\n",
       " 'bakmi tasik saya dan beberapa teman mampir dan coba bakmi bakso nya makan nya biasa saja tidak ada yang special',\n",
       " 'lokasi pandan wangi benar agak jauh dari pusat kota bandung tapi masih jangkau sekitar 15 menit dari jalan asia afrika patok jalan nya ada di jalan talaga bodas dari sana tinggal cari papan tunjuk pandan wangi saat kami datang jam 1 siang sudah nanti begitu banyak orang banyak yang datang keluarga dan anak sambil tunggu saji goreng dari ubi singkong yang lumayan enak',\n",
       " 'pertama kali datang ke eatalia saya datang sama dengan teman dan 1 orang anak tidak memsungkan ketika memlilih makan untuk anak karena di sini sedia menu dengan porsi anak kami mes cheese bacon deluxe pizza dengan roti warna hitam untuk seluruh menu yang saya pesan tidak kecewa',\n",
       " 'rasa lumayan sambel nya juga enak apalagi saji 3 macam model begitu terus banyak pilih sih benar mau makan apa di sini mau gurame mau kakap bawal kerang cumi udang macem-macem deh asal jangan pesan ikan kembung saja tidak ada di sini',\n",
       " 'lokasi di salah satu tempat belanja dan rekreasi di cihampelas wali bandung resto ini tidak kecewa saji nya cukup agam untuk rasa resto ini bisa saji nya dengan cukup enak dan nikmat sangat cocok untuk santap dengan pasang atau keluarga',\n",
       " 'zaman ini masih ada mbak mbak online shop yang tidak tahu aplikasi gojek gocar gosend ya allah bodoh sekali jual hut aku rasa',\n",
       " 'restoran ini juga letak di tempat stategis yaitu jalan dago tepat nya di belah hotel holiday inn sesuai judul nya restoran ini sedia bagai menu masakan aceh favorit saya adalah mi aceh harga standar tapi tidak terlalu mahal jangan lupa coba roti canai nya',\n",
       " 'bihun goreng nya enak bisa minta tidak banyak minyak makan di sini kandung babi jadi tidak halal es teh tawar porsi nya besar dan muas',\n",
       " 'lokasi tes tidak jelas telepon tidak angkat di email cuma auto reply tidak rekomendasi aku baru sadar something adalah wong pas mampir ke kantor nya dan mereka cerita bahwa pernah held tes di hotel dan ruang belah ada kondangan they told that without remorse',\n",
       " 'sate kambing dan gulai kambing nya maknyus saji makannan nya juga sangat cepat tempat nya cukup bersih',\n",
       " 'yue ke hotel yang di mongkok hongkong tidak ada bulan juni lalu saya booked dan sudah bayar untuk 2 kamar tapi hotel tidak temu',\n",
       " 'poach salmon nya enak layan nya enak scenery nya mantap tank to amanda dan worth it banget deh pasti kembali lagi',\n",
       " 'orang cina makan legendaris sudah lama banget nih orang cina makan satu ini semua enak yang tidak enak cuma parkir nya saja aujubila susah nya parkir harus di seberang karena depan resto trotoar jadi harus sabar sekali sedih deh',\n",
       " 'makan di restoran pizza ini paling enak jika sama teman nikmat paket sensasi delight yang harga nya sangat jangkau oleh semua kalang',\n",
       " 'hasil quick count pilgub kaltim 2018 isran - had unggul',\n",
       " 'kenapa kamu jerat buni yani undang ite padahal jelas itu video asal dari youtube yang unggah oleh pemprov itu sendiri harus nya yang kena undang ite itu pemprov bukan buni yani ya kan',\n",
       " 'paket gim benar mantap yang megah harus makan di sini jamin makin keren bravo']"
      ]
     },
     "execution_count": 18,
     "metadata": {},
     "output_type": "execute_result"
    }
   ],
   "source": [
    "df_lema"
   ]
  },
  {
   "cell_type": "code",
   "execution_count": 15,
   "metadata": {},
   "outputs": [
    {
     "name": "stdout",
     "output_type": "stream",
     "text": [
      "['yang', 'untuk', 'pada', 'ke', 'para', 'namun', 'menurut', 'antara', 'dia', 'dua', 'ia', 'seperti', 'jika', 'jika', 'sehingga', 'kembali', 'dan', 'tidak', 'ini', 'karena', 'kepada', 'oleh', 'saat', 'harus', 'sementara', 'setelah', 'belum', 'kami', 'sekitar', 'bagi', 'serta', 'di', 'dari', 'telah', 'sebagai', 'masih', 'hal', 'ketika', 'adalah', 'itu', 'dalam', 'bisa', 'bahwa', 'atau', 'hanya', 'kita', 'dengan', 'akan', 'juga', 'ada', 'mereka', 'sudah', 'saya', 'terhadap', 'secara', 'agar', 'lain', 'anda', 'begitu', 'mengapa', 'kenapa', 'yaitu', 'yakni', 'daripada', 'itulah', 'lagi', 'maka', 'tentang', 'demi', 'dimana', 'kemana', 'pula', 'sambil', 'sebelum', 'sesudah', 'supaya', 'guna', 'kah', 'pun', 'sampai', 'sedangkan', 'selagi', 'sementara', 'tetapi', 'apakah', 'kecuali', 'sebab', 'selain', 'seolah', 'seraya', 'seterusnya', 'tanpa', 'agak', 'boleh', 'dapat', 'dsb', 'dst', 'dll', 'dahulu', 'dulunya', 'anu', 'demikian', 'tapi', 'ingin', 'juga', 'nggak', 'mari', 'nanti', 'melainkan', 'oh', 'ok', 'seharusnya', 'sebetulnya', 'setiap', 'setidaknya', 'sesuatu', 'pasti', 'saja', 'toh', 'ya', 'walau', 'tolong', 'tentu', 'amat', 'apalagi', 'bagaimanapun']\n"
     ]
    }
   ],
   "source": [
    "from Sastrawi.StopWordRemover.StopWordRemoverFactory import StopWordRemoverFactory\n",
    "stop_factory = StopWordRemoverFactory()\n",
    "data = stop_factory.get_stop_words()\n",
    "stopword = stop_factory.create_stop_word_remover()\n",
    "print(data)\n"
   ]
  },
  {
   "cell_type": "code",
   "execution_count": 2,
   "metadata": {},
   "outputs": [
    {
     "ename": "NameError",
     "evalue": "name 'nltk' is not defined",
     "output_type": "error",
     "traceback": [
      "\u001b[1;31m---------------------------------------------------------------------------\u001b[0m",
      "\u001b[1;31mNameError\u001b[0m                                 Traceback (most recent call last)",
      "\u001b[1;32mc:\\Users\\Lenovo\\Documents\\Visual Studio\\Tutorial Python\\Platinum Challange\\Features_ext.ipynb Cell 7\u001b[0m in \u001b[0;36m<cell line: 9>\u001b[1;34m()\u001b[0m\n\u001b[0;32m      <a href='vscode-notebook-cell:/c%3A/Users/Lenovo/Documents/Visual%20Studio/Tutorial%20Python/Platinum%20Challange/Features_ext.ipynb#W6sZmlsZQ%3D%3D?line=6'>7</a>\u001b[0m kalimat \u001b[39m=\u001b[39m kalimat\u001b[39m.\u001b[39mtranslate(\u001b[39mstr\u001b[39m\u001b[39m.\u001b[39mmaketrans(\u001b[39m'\u001b[39m\u001b[39m'\u001b[39m,\u001b[39m'\u001b[39m\u001b[39m'\u001b[39m,string\u001b[39m.\u001b[39mpunctuation))\u001b[39m.\u001b[39mlower()\n\u001b[0;32m      <a href='vscode-notebook-cell:/c%3A/Users/Lenovo/Documents/Visual%20Studio/Tutorial%20Python/Platinum%20Challange/Features_ext.ipynb#W6sZmlsZQ%3D%3D?line=7'>8</a>\u001b[0m stop \u001b[39m=\u001b[39m stopword\u001b[39m.\u001b[39mremove(kalimat)\n\u001b[1;32m----> <a href='vscode-notebook-cell:/c%3A/Users/Lenovo/Documents/Visual%20Studio/Tutorial%20Python/Platinum%20Challange/Features_ext.ipynb#W6sZmlsZQ%3D%3D?line=8'>9</a>\u001b[0m tokens \u001b[39m=\u001b[39m nltk\u001b[39m.\u001b[39mtokenize\u001b[39m.\u001b[39mword_tokenize(stop)\n",
      "\u001b[1;31mNameError\u001b[0m: name 'nltk' is not defined"
     ]
    }
   ],
   "source": [
    "from Sastrawi.StopWordRemover.StopWordRemoverFactory import StopWordRemoverFactory\n",
    "from nltk.tokenize import word_tokenize\n",
    "import string\n",
    "factory = StopWordRemoverFactory()\n",
    "stopword = factory.create_stop_word_remover()\n",
    "kalimat = \"Andi kerap melakukan transaksi rutin secara daring atau online. Menurut Andi belanja online lebih praktis & murah.\"\n",
    "kalimat = kalimat.translate(str.maketrans('','',string.punctuation)).lower()\n",
    "stop = stopword.remove(kalimat)\n",
    "tokens = nltk.tokenize.word_tokenize(stop)\n"
   ]
  },
  {
   "cell_type": "code",
   "execution_count": 22,
   "metadata": {},
   "outputs": [
    {
     "ename": "NameError",
     "evalue": "name 'stopwords' is not defined",
     "output_type": "error",
     "traceback": [
      "\u001b[1;31m---------------------------------------------------------------------------\u001b[0m",
      "\u001b[1;31mNameError\u001b[0m                                 Traceback (most recent call last)",
      "\u001b[1;32mc:\\Users\\Lenovo\\Documents\\Visual Studio\\Tutorial Python\\Platinum Challange\\Features_ext.ipynb Cell 7\u001b[0m in \u001b[0;36m<cell line: 2>\u001b[1;34m()\u001b[0m\n\u001b[0;32m      <a href='vscode-notebook-cell:/c%3A/Users/Lenovo/Documents/Visual%20Studio/Tutorial%20Python/Platinum%20Challange/Features_ext.ipynb#X12sZmlsZQ%3D%3D?line=0'>1</a>\u001b[0m example_sent \u001b[39m=\u001b[39m \u001b[39m\"\"\"\u001b[39m\u001b[39mSaya tidak suka makan nasi goreng, bagaimanapun saya tetap harus makan.\u001b[39m\u001b[39m\"\"\"\u001b[39m\n\u001b[1;32m----> <a href='vscode-notebook-cell:/c%3A/Users/Lenovo/Documents/Visual%20Studio/Tutorial%20Python/Platinum%20Challange/Features_ext.ipynb#X12sZmlsZQ%3D%3D?line=1'>2</a>\u001b[0m stop_words \u001b[39m=\u001b[39m stopwords\u001b[39m.\u001b[39mwords(\u001b[39m'\u001b[39m\u001b[39msastrawi\u001b[39m\u001b[39m'\u001b[39m)\n\u001b[0;32m      <a href='vscode-notebook-cell:/c%3A/Users/Lenovo/Documents/Visual%20Studio/Tutorial%20Python/Platinum%20Challange/Features_ext.ipynb#X12sZmlsZQ%3D%3D?line=3'>4</a>\u001b[0m word_tokens \u001b[39m=\u001b[39m word_tokenize(example_sent)\n\u001b[0;32m      <a href='vscode-notebook-cell:/c%3A/Users/Lenovo/Documents/Visual%20Studio/Tutorial%20Python/Platinum%20Challange/Features_ext.ipynb#X12sZmlsZQ%3D%3D?line=5'>6</a>\u001b[0m filtered_sentence \u001b[39m=\u001b[39m [w \u001b[39mfor\u001b[39;00m w \u001b[39min\u001b[39;00m word_tokens \u001b[39mif\u001b[39;00m \u001b[39mnot\u001b[39;00m w\u001b[39m.\u001b[39mlower() \u001b[39min\u001b[39;00m stop_words]\n",
      "\u001b[1;31mNameError\u001b[0m: name 'stopwords' is not defined"
     ]
    }
   ],
   "source": [
    "example_sent = \"\"\"Saya tidak suka makan nasi goreng, bagaimanapun saya tetap harus makan.\"\"\"\n",
    "stop_words = stopwords.words('sastrawi')\n",
    "\n",
    "word_tokens = word_tokenize(example_sent)\n",
    "\n",
    "filtered_sentence = [w for w in word_tokens if not w.lower() in stop_words]\n",
    "\n",
    "filtered_sentence = []\n",
    "\n",
    "for w in word_tokens:\n",
    "\tif w not in stop_words:\n",
    "\t\tfiltered_sentence.append(w)\n",
    "\n",
    "print(word_tokens)\n",
    "print(filtered_sentence)"
   ]
  }
 ],
 "metadata": {
  "kernelspec": {
   "display_name": "Python 3.10.6 64-bit",
   "language": "python",
   "name": "python3"
  },
  "language_info": {
   "codemirror_mode": {
    "name": "ipython",
    "version": 3
   },
   "file_extension": ".py",
   "mimetype": "text/x-python",
   "name": "python",
   "nbconvert_exporter": "python",
   "pygments_lexer": "ipython3",
   "version": "3.10.6"
  },
  "orig_nbformat": 4,
  "vscode": {
   "interpreter": {
    "hash": "8c3d4d9970fc5c09c50d9318a9c7fbf4d0159e4b28833276f5678ee22bded273"
   }
  }
 },
 "nbformat": 4,
 "nbformat_minor": 2
}
