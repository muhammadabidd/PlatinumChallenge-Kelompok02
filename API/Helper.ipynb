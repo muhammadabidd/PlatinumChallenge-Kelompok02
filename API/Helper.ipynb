{
 "cells": [
  {
   "cell_type": "code",
   "execution_count": 14,
   "metadata": {},
   "outputs": [
    {
     "name": "stdout",
     "output_type": "stream",
     "text": [
      "1/1 [==============================] - 0s 292ms/step\n"
     ]
    },
    {
     "data": {
      "text/plain": [
       "'negative'"
      ]
     },
     "execution_count": 14,
     "metadata": {},
     "output_type": "execute_result"
    }
   ],
   "source": [
    "from Data_Cleansing import process_text\n",
    "from keras.preprocessing.text import Tokenizer\n",
    "# from keras.preprocessing.sequence import pad_sequences\n",
    "from tensorflow.keras.preprocessing.sequence import pad_sequences\n",
    "import pickle\n",
    "from keras.models import load_model\n",
    "import numpy as np\n",
    "\n",
    "\n",
    "max_features = 100000\n",
    "tokenizer = Tokenizer(num_words=max_features, split=' ', lower=True)\n",
    "\n",
    "original_text = 'saya sangat suka makan nasi goreng'\n",
    "\n",
    "text = [process_text(original_text)]\n",
    "\n",
    "file = open('resources_of_lstm/x_pad_sequences.pickle','rb')\n",
    "feature_file_from_lstm = pickle.load(file)\n",
    "file.close()\n",
    "\n",
    "#Feature extraction\n",
    "feature = tokenizer.texts_to_sequences(text)\n",
    "feature = pad_sequences(feature, maxlen=feature_file_from_lstm.shape[1])\n",
    "\n",
    "sentiment = ['negative', 'neutral', 'positive']\n",
    "#predicting\n",
    "model_file_from_lstm = load_model('resources_of_lstm/model.h5')\n",
    "prediction = model_file_from_lstm.predict(feature)\n",
    "get_sentiment = sentiment[np.argmax(prediction[0])]\n",
    "get_sentiment"
   ]
  },
  {
   "cell_type": "code",
   "execution_count": null,
   "metadata": {},
   "outputs": [],
   "source": []
  }
 ],
 "metadata": {
  "kernelspec": {
   "display_name": "Python 3.10.6 64-bit",
   "language": "python",
   "name": "python3"
  },
  "language_info": {
   "codemirror_mode": {
    "name": "ipython",
    "version": 3
   },
   "file_extension": ".py",
   "mimetype": "text/x-python",
   "name": "python",
   "nbconvert_exporter": "python",
   "pygments_lexer": "ipython3",
   "version": "3.10.6"
  },
  "orig_nbformat": 4,
  "vscode": {
   "interpreter": {
    "hash": "f5d970ce3a869c424d840219ec304347cecc96c42e1b8d72b3facc8cee4d3a35"
   }
  }
 },
 "nbformat": 4,
 "nbformat_minor": 2
}
